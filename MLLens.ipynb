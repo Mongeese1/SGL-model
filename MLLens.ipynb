{
 "cells": [
  {
   "cell_type": "code",
   "execution_count": 8,
   "id": "4ce4a72e",
   "metadata": {},
   "outputs": [
    {
     "name": "stdout",
     "output_type": "stream",
     "text": [
      "Collecting opencv-python\n",
      "  Downloading opencv_python-4.7.0.72-cp37-abi3-win_amd64.whl (38.2 MB)\n",
      "Requirement already satisfied: numpy>=1.17.3 in c:\\programdata\\anaconda3\\lib\\site-packages (from opencv-python) (1.20.1)\n",
      "Installing collected packages: opencv-python\n",
      "Successfully installed opencv-python-4.7.0.72\n"
     ]
    }
   ],
   "source": [
    "!pip install --user opencv-python\n"
   ]
  },
  {
   "cell_type": "code",
   "execution_count": 9,
   "id": "1c15d7fd",
   "metadata": {},
   "outputs": [],
   "source": [
    "import os\n",
    "import numpy as np\n",
    "import matplotlib.pyplot as plt\n",
    "import cv2\n",
    "\n",
    "from PIL import Image\n",
    "from sklearn.model_selection import train_test_split\n",
    "from tensorflow.keras.preprocessing.image import ImageDataGenerator\n",
    "from tensorflow.keras.utils import to_categorical\n",
    "from tensorflow.keras.models import Sequential\n",
    "from tensorflow.keras.layers import Conv2D, MaxPooling2D, Flatten, Dense, Dropout\n"
   ]
  },
  {
   "cell_type": "code",
   "execution_count": 10,
   "id": "9e0df94d",
   "metadata": {},
   "outputs": [],
   "source": [
    "output_folder = 'lensed_alphabet'\n",
    "image_size = 128\n",
    "num_classes = 26\n",
    "batch_size = 32\n",
    "epochs = 50\n"
   ]
  },
  {
   "cell_type": "code",
   "execution_count": 11,
   "id": "39fe1eb5",
   "metadata": {},
   "outputs": [],
   "source": [
    "distances = [1, 138, 275, 550]  # Distances in AU\n",
    "\n",
    "# Step 1: Load images and labels\n",
    "images = []\n",
    "labels = []\n",
    "for letter in 'ABCDEFGHIJKLMNOPQRSTUVWXYZ':\n",
    "    for distance in distances:\n",
    "        file_path = os.path.join(output_folder, f'lensed_PM_{letter}_{distance}AU.png')\n",
    "        img = cv2.imread(file_path, cv2.IMREAD_GRAYSCALE)\n",
    "        if img is not None:\n",
    "            img = cv2.resize(img, (50, 50))\n",
    "            images.append(img)\n",
    "            labels.append(ord(letter) - ord('A'))\n",
    "\n",
    "# Step 2: Normalize images\n",
    "images = np.array(images) / 255.0\n",
    "labels = np.array(labels)\n",
    "\n",
    "# Step 3: One-hot encode labels\n",
    "labels = np.eye(26)[labels]\n",
    "\n",
    "# Step 4: Split data into training and testing sets\n",
    "x_train, x_test, y_train, y_test = train_test_split(images, labels, test_size=0.2, random_state=42)\n",
    "\n",
    "# Step 5: Reshape images for CNN\n",
    "x_train = x_train.reshape(-1, 50, 50, 1)\n",
    "x_test = x_test.reshape(-1, 50, 50, 1)"
   ]
  },
  {
   "cell_type": "code",
   "execution_count": null,
   "id": "c8b6586e",
   "metadata": {},
   "outputs": [],
   "source": [
    "X_train, X_test, y_train, y_test = train_test_split(X, y, test_size=0.3, random_state=42)\n",
    "X_val, X_test, y_val, y_test = train_test_split(X_test, y_test, test_size=0.5, random_state=42)\n",
    "\n",
    "data_generator = ImageDataGenerator(rotation_range=10, width_shift_range=0.1, height_shift_range=0.1, horizontal_flip=True)\n",
    "data_generator.fit(X_train)\n"
   ]
  },
  {
   "cell_type": "code",
   "execution_count": null,
   "id": "d3a90a9b",
   "metadata": {},
   "outputs": [],
   "source": []
  }
 ],
 "metadata": {
  "kernelspec": {
   "display_name": "Python 3",
   "language": "python",
   "name": "python3"
  },
  "language_info": {
   "codemirror_mode": {
    "name": "ipython",
    "version": 3
   },
   "file_extension": ".py",
   "mimetype": "text/x-python",
   "name": "python",
   "nbconvert_exporter": "python",
   "pygments_lexer": "ipython3",
   "version": "3.8.8"
  }
 },
 "nbformat": 4,
 "nbformat_minor": 5
}
