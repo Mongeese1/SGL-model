{
 "cells": [
  {
   "cell_type": "code",
   "execution_count": 25,
   "id": "c9b2c678",
   "metadata": {},
   "outputs": [],
   "source": [
    "from PIL import Image, ImageDraw, ImageFont\n",
    "\n",
    "# Define the image dimensions\n",
    "width, height = 5000, 5000\n",
    "\n",
    "# Create a new image with transparent background\n",
    "img = Image.new('RGBA', (width, height))\n",
    "\n",
    "# Create a draw object\n",
    "draw = ImageDraw.Draw(img)\n",
    "\n",
    "# Define the font and size\n",
    "font = ImageFont.truetype('arial.ttf', size=4000)\n",
    "\n",
    "# Define the letter\n",
    "letter = 'A'\n",
    "\n",
    "# Get the size of the letter\n",
    "text_size = draw.textsize(letter, font=font)\n",
    "\n",
    "# Calculate the width and height to center the text\n",
    "x = (width - text_size[0])/2\n",
    "y = (height - text_size[1])/2\n",
    "\n",
    "# Draw the letter with a color of black and full opacity\n",
    "draw.text((x, y), letter, fill='black', font=font)\n",
    "\n",
    "# Save the image\n",
    "img.save('letter_A.png')\n"
   ]
  },
  {
   "cell_type": "code",
   "execution_count": 61,
   "id": "3e740850",
   "metadata": {},
   "outputs": [],
   "source": [
    "from PIL import Image\n",
    "import numpy as np\n",
    "import math\n",
    "\n",
    "def lens_distortion(img, distortion_fn):\n",
    "    w, h = img.size\n",
    "    img_np = np.array(img)\n",
    "\n",
    "    x = np.arange(w) - w/2  # x-coordinates\n",
    "    y = h/2 - np.arange(h)  # y-coordinates\n",
    "\n",
    "    X, Y = np.meshgrid(x, y)  # matrices of coordinates\n",
    "    Theta = np.sqrt(X**2 + Y**2)  # matrix of radiuses (in pixels)\n",
    "\n",
    "    # Apply the distortion\n",
    "    D = distortion_fn(X,Y)\n",
    "\n",
    "    # Calculate the distorted coordinates\n",
    "    Xd = X - D*X/(Theta + 1e-8)  # small constant added to avoid division by zero\n",
    "    Yd = Y - D*Y/(Theta + 1e-8) \n",
    "    Xd = np.clip(Xd + w/2, 0, w-1).astype(int)\n",
    "    Yd = np.clip(h/2 - Yd, 0, h-1).astype(int)\n",
    "\n",
    "    # Create the distorted image preserving alpha channel\n",
    "    distorted_img_np = np.zeros_like(img_np)\n",
    "    mask = img_np[..., 3] > 0  # mask for pixels where alpha is not zero\n",
    "    distorted_img_np[Yd[mask], Xd[mask]] = img_np[mask]\n",
    "\n",
    "    return Image.fromarray(distorted_img_np)\n",
    "\n",
    "# Load the image\n",
    "img = Image.open('letter_A.png')\n",
    "\n",
    "# Define the distortion function\n",
    "def distortion_fn(X,Y):\n",
    "    return np.cos(X)-150 *np.sin(Y)+100\n",
    "\n",
    "# Apply the distortion\n",
    "distorted_img = lens_distortion(img, distortion_fn)\n",
    "\n",
    "# Save the image\n",
    "distorted_img.save('distorted_a.png')\n",
    "\n",
    "# Create a white background\n",
    "background = Image.new('RGBA', distorted_img.size, (255, 255, 255, 255))\n",
    "\n",
    "# Paste the distorted image onto the background\n",
    "background.paste(distorted_img, mask=distorted_img)\n",
    "\n",
    "# Save the image\n",
    "background.save('distorted_a_with_background.png')\n"
   ]
  },
  {
   "cell_type": "code",
   "execution_count": 57,
   "id": "842667ba",
   "metadata": {},
   "outputs": [
    {
     "data": {
      "image/png": "[encoded data removed]",
      "text/plain": [
       "<Figure size 432x288 with 1 Axes>"
      ]
     },
     "metadata": {
      "needs_background": "light"
     },
     "output_type": "display_data"
    }
   ],
   "source": [
    "import matplotlib.pyplot as plt\n",
    "\n",
    "# Load the image\n",
    "distorted_img = Image.open('distorted_A.png')\n",
    "\n",
    "# Display the image\n",
    "plt.imshow(distorted_img)\n",
    "plt.axis('off')  # remove the axis\n",
    "plt.show()\n"
   ]
  },
  {
   "cell_type": "code",
   "execution_count": 56,
   "id": "6d3d2bb8",
   "metadata": {},
   "outputs": [
    {
     "data": {
      "image/png": "[encoded data removed]",
      "text/plain": [
       "<Figure size 432x288 with 1 Axes>"
      ]
     },
     "metadata": {
      "needs_background": "light"
     },
     "output_type": "display_data"
    }
   ],
   "source": [
    "distorte_img = Image.open('letter_A.png')\n",
    "\n",
    "# Display the image\n",
    "plt.imshow(distorte_img)\n",
    "plt.axis('off')  # remove the axis\n",
    "plt.show()"
   ]
  }
 ],
 "metadata": {
  "kernelspec": {
   "display_name": "Python 3",
   "language": "python",
   "name": "python3"
  },
  "language_info": {
   "codemirror_mode": {
    "name": "ipython",
    "version": 3
   },
   "file_extension": ".py",
   "mimetype": "text/x-python",
   "name": "python",
   "nbconvert_exporter": "python",
   "pygments_lexer": "ipython3",
   "version": "3.8.8"
  }
 },
 "nbformat": 4,
 "nbformat_minor": 5
}
